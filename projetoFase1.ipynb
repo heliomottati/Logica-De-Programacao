{
  "nbformat": 4,
  "nbformat_minor": 0,
  "metadata": {
    "colab": {
      "provenance": [],
      "authorship_tag": "ABX9TyNumDuF7b2W1ThViozaIJPZ",
      "include_colab_link": true
    },
    "kernelspec": {
      "name": "python3",
      "display_name": "Python 3"
    },
    "language_info": {
      "name": "python"
    }
  },
  "cells": [
    {
      "cell_type": "markdown",
      "metadata": {
        "id": "view-in-github",
        "colab_type": "text"
      },
      "source": [
        "<a href=\"https://colab.research.google.com/github/heliomottati/Logica-De-Programacao/blob/main/projetoFase1.ipynb\" target=\"_parent\"><img src=\"https://colab.research.google.com/assets/colab-badge.svg\" alt=\"Open In Colab\"/></a>"
      ]
    },
    {
      "cell_type": "code",
      "execution_count": null,
      "metadata": {
        "colab": {
          "base_uri": "https://localhost:8080/"
        },
        "id": "Ch_GQEDoH61x",
        "outputId": "1b7bf1e8-80de-40b1-bb53-f88d04c261e7"
      },
      "outputs": [
        {
          "output_type": "stream",
          "name": "stdout",
          "text": [
            "Insira a temperatura maxima para o mes 1: 34.3\n",
            "Insira a temperatura maxima para o mes 2: 36\n",
            "Insira a temperatura maxima para o mes 3: 31\n",
            "Insira a temperatura maxima para o mes 4: 31.7\n",
            "Insira a temperatura maxima para o mes 5: 31\n",
            "Insira a temperatura maxima para o mes 6: 20\n",
            "Insira a temperatura maxima para o mes 7: 17\n",
            "Insira a temperatura maxima para o mes 8: 42.5\n",
            "Insira a temperatura maxima para o mes 9: 37\n",
            "Insira a temperatura maxima para o mes 10: 32.1\n",
            "Insira a temperatura maxima para o mes 11: 33\n",
            "Insira a temperatura maxima para o mes 12: 23\n",
            "Temperatura maxima media: 30.7 graus Celsius\n",
            "Numero de meses de escaldantes: 4\n",
            "Mes mais quente: Agosto\n",
            "Mes mais frio: Julho\n"
          ]
        }
      ],
      "source": [
        "import calendar # Importe o módulo de calendário\n",
        "\n",
        "# Inicialize o dicionário para armazenar dados de temperatura\n",
        "dados_temp = {}\n",
        "\n",
        "# Lista de meses do ano\n",
        "meses_pt = [\"Janeiro\", \"Fevereiro\", \"Março\", \"Abril\", \"Maio\", \"Junho\",\n",
        "             \"Julho\", \"Agosto\", \"Setembro\", \"Outubro\", \"Novembro\", \"Dezembro\"]\n",
        "\n",
        "# Repita cada mês e peça ao usuário para inserir dados de temperatura\n",
        "for mes in range(1, 13):\n",
        "    while True:\n",
        "        temp = float(input(f\"Insira a temperatura maxima para o mes {mes}: \"))\n",
        "        if -60 <= temp <= 50:\n",
        "            dados_temp[mes] = temp\n",
        "            break\n",
        "        else:\n",
        "            print(\"Temperatura inválida. Insira uma temperatura entre -60 e 50 graus Celsius.\")\n",
        "\n",
        "# Calcular a temperatura maxima media\n",
        "avg_temp = sum(dados_temp.values()) / len(dados_temp)\n",
        "\n",
        "# Conte o número de meses com temperatura acima de 33 graus Celsius\n",
        "num_meses_escaldantes = sum(1 for temp in dados_temp.values() if temp > 33)\n",
        "\n",
        "# Encontre o mes com temperatura maxima mais alta\n",
        "mes_mais_quente = max(dados_temp, key=dados_temp.get)\n",
        "\n",
        "# Encontre o mês com a temperatura máxima mais baixa\n",
        "mes_mais_frio = min(dados_temp, key=dados_temp.get)\n",
        "\n",
        "# Imprimir resultados\n",
        "\n",
        "print(f\"Temperatura maxima media: {avg_temp:.1f} graus Celsius\")\n",
        "print(f\"Numero de meses de escaldantes: {num_meses_escaldantes}\")\n",
        "print(f\"Mes mais quente: {meses_pt[mes_mais_quente - 1]}\")\n",
        "print(f\"Mes mais frio: {meses_pt[mes_mais_frio - 1]}\")\n"
      ]
    }
  ]
}